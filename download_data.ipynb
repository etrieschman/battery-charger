{
 "cells": [
  {
   "cell_type": "code",
   "execution_count": 1,
   "id": "c2548e71-0bb2-4261-b079-6ccefc558784",
   "metadata": {},
   "outputs": [],
   "source": [
    "import numpy as np\n",
    "import pandas as pd\n",
    "import isodata\n",
    "import os\n",
    "from tqdm import tqdm"
   ]
  },
  {
   "cell_type": "code",
   "execution_count": 2,
   "id": "e682b256-aec6-4f7f-b2d8-ff71717e65fb",
   "metadata": {},
   "outputs": [],
   "source": [
    "path_home = os.getcwd()\n",
    "path_data = path_home + '/data/'"
   ]
  },
  {
   "cell_type": "code",
   "execution_count": 3,
   "id": "d5b037fb-b314-4c73-8d91-6f82d3993167",
   "metadata": {
    "collapsed": true,
    "jupyter": {
     "outputs_hidden": true
    },
    "tags": []
   },
   "outputs": [
    {
     "name": "stdout",
     "output_type": "stream",
     "text": [
      "markets: [<Markets.REAL_TIME_15_MIN: 'REAL_TIME_15_MIN'>, <Markets.REAL_TIME_HOURLY: 'REAL_TIME_HOURLY'>, <Markets.DAY_AHEAD_HOURLY: 'DAY_AHEAD_HOURLY'>]\n"
     ]
    },
    {
     "data": {
      "text/html": [
       "<div>\n",
       "<style scoped>\n",
       "    .dataframe tbody tr th:only-of-type {\n",
       "        vertical-align: middle;\n",
       "    }\n",
       "\n",
       "    .dataframe tbody tr th {\n",
       "        vertical-align: top;\n",
       "    }\n",
       "\n",
       "    .dataframe thead th {\n",
       "        text-align: right;\n",
       "    }\n",
       "</style>\n",
       "<table border=\"1\" class=\"dataframe\">\n",
       "  <thead>\n",
       "    <tr style=\"text-align: right;\">\n",
       "      <th></th>\n",
       "      <th>Aggregate PNode ID</th>\n",
       "      <th>PNode ID</th>\n",
       "    </tr>\n",
       "  </thead>\n",
       "  <tbody>\n",
       "    <tr>\n",
       "      <th>0</th>\n",
       "      <td>TH_ZP26_GEN-APND</td>\n",
       "      <td>DOUBLEC_1_B1</td>\n",
       "    </tr>\n",
       "    <tr>\n",
       "      <th>1</th>\n",
       "      <td>TH_SP15_GEN-APND</td>\n",
       "      <td>SONOFR2_7_B1</td>\n",
       "    </tr>\n",
       "    <tr>\n",
       "      <th>2</th>\n",
       "      <td>TH_SP15_GEN-APND</td>\n",
       "      <td>GARNET_7_N009</td>\n",
       "    </tr>\n",
       "    <tr>\n",
       "      <th>3</th>\n",
       "      <td>TH_NP15_GEN-APND</td>\n",
       "      <td>LECEFST1_7_B1</td>\n",
       "    </tr>\n",
       "    <tr>\n",
       "      <th>4</th>\n",
       "      <td>TH_ZP26_GEN-APND</td>\n",
       "      <td>Q885C2_7_N001</td>\n",
       "    </tr>\n",
       "    <tr>\n",
       "      <th>...</th>\n",
       "      <td>...</td>\n",
       "      <td>...</td>\n",
       "    </tr>\n",
       "    <tr>\n",
       "      <th>1589</th>\n",
       "      <td>TH_NP15_GEN-APND</td>\n",
       "      <td>TOADTWN_7_N002</td>\n",
       "    </tr>\n",
       "    <tr>\n",
       "      <th>1590</th>\n",
       "      <td>TH_NP15_GEN-APND</td>\n",
       "      <td>CARBERRY_2_B1</td>\n",
       "    </tr>\n",
       "    <tr>\n",
       "      <th>1591</th>\n",
       "      <td>TH_NP15_GEN-APND</td>\n",
       "      <td>KRMNFCP_7_N002</td>\n",
       "    </tr>\n",
       "    <tr>\n",
       "      <th>1592</th>\n",
       "      <td>TH_NP15_GEN-APND</td>\n",
       "      <td>MENDOTA_1_B1</td>\n",
       "    </tr>\n",
       "    <tr>\n",
       "      <th>1593</th>\n",
       "      <td>TH_SP15_GEN-APND</td>\n",
       "      <td>SAMPSON_6_N010</td>\n",
       "    </tr>\n",
       "  </tbody>\n",
       "</table>\n",
       "<p>1594 rows × 2 columns</p>\n",
       "</div>"
      ],
      "text/plain": [
       "     Aggregate PNode ID        PNode ID\n",
       "0      TH_ZP26_GEN-APND    DOUBLEC_1_B1\n",
       "1      TH_SP15_GEN-APND    SONOFR2_7_B1\n",
       "2      TH_SP15_GEN-APND   GARNET_7_N009\n",
       "3      TH_NP15_GEN-APND   LECEFST1_7_B1\n",
       "4      TH_ZP26_GEN-APND   Q885C2_7_N001\n",
       "...                 ...             ...\n",
       "1589   TH_NP15_GEN-APND  TOADTWN_7_N002\n",
       "1590   TH_NP15_GEN-APND   CARBERRY_2_B1\n",
       "1591   TH_NP15_GEN-APND  KRMNFCP_7_N002\n",
       "1592   TH_NP15_GEN-APND    MENDOTA_1_B1\n",
       "1593   TH_SP15_GEN-APND  SAMPSON_6_N010\n",
       "\n",
       "[1594 rows x 2 columns]"
      ]
     },
     "execution_count": 3,
     "metadata": {},
     "output_type": "execute_result"
    }
   ],
   "source": [
    "caiso = isodata.CAISO()\n",
    "print('markets:', caiso.markets)\n",
    "# caiso.get_pnodes()"
   ]
  },
  {
   "cell_type": "code",
   "execution_count": null,
   "id": "993aa098-8faa-4978-bb62-1e0bce4a467d",
   "metadata": {
    "tags": []
   },
   "outputs": [
    {
     "name": "stderr",
     "output_type": "stream",
     "text": [
      "  8%|███▋                                        | 1/12 [00:44<08:08, 44.37s/it]"
     ]
    },
    {
     "name": "stdout",
     "output_type": "stream",
     "text": [
      "created folder:  /Users/etriesch/dev/battery-charger/data/caiso_th_np15_gen-apnd/\n"
     ]
    },
    {
     "name": "stderr",
     "output_type": "stream",
     "text": [
      " 42%|██████████████████▎                         | 5/12 [04:07<05:40, 48.63s/it]"
     ]
    }
   ],
   "source": [
    "# write months of data to temporary location\n",
    "nodes = ['TH_NP15_GEN-APND']\n",
    "node_pathname = f'caiso_{nodes[0].lower()}/'\n",
    "market = 'REAL_TIME_15_MIN'\n",
    "sleep=5\n",
    "\n",
    "for y in [2020, 2021, 2022]:\n",
    "    for m in tqdm(range(1,12+1)):\n",
    "        # define start/ end dates\n",
    "        dt_start = f'{m}/1/{y}'\n",
    "        if m == 12:\n",
    "            dt_end = f'{1}/1/{y+1}'\n",
    "        else:\n",
    "            dt_end = f'{m+1}/1/{y}'\n",
    "\n",
    "        # pull data\n",
    "        caiso_month = caiso.get_historical_lmp(date=dt_start, end=dt_end, \n",
    "                                               market=market, locations=nodes, \n",
    "                                               sleep=sleep, verbose=False)\n",
    "        \n",
    "        # save chunk\n",
    "        # If folder doesn't exist, then create it.\n",
    "        path_node = f'{path_data}{node_pathname}'\n",
    "        if not os.path.isdir(path_node):\n",
    "            os.makedirs(path_node)\n",
    "            print(\"created folder: \", path_node)\n",
    "\n",
    "        caiso_month.to_csv(f'{path_node}{market.lower()}_y{y}m{m}.csv', index=False)\n"
   ]
  },
  {
   "cell_type": "code",
   "execution_count": null,
   "id": "7d7a5ae8-a210-4cf1-8ba8-1e8b5329f2f2",
   "metadata": {},
   "outputs": [],
   "source": []
  }
 ],
 "metadata": {
  "kernelspec": {
   "display_name": "battery-charger",
   "language": "python",
   "name": "battery-charger"
  },
  "language_info": {
   "codemirror_mode": {
    "name": "ipython",
    "version": 3
   },
   "file_extension": ".py",
   "mimetype": "text/x-python",
   "name": "python",
   "nbconvert_exporter": "python",
   "pygments_lexer": "ipython3",
   "version": "3.9.5"
  }
 },
 "nbformat": 4,
 "nbformat_minor": 5
}
